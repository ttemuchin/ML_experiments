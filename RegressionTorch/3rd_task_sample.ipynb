{
 "cells": [
  {
   "cell_type": "markdown",
   "metadata": {},
   "source": [
    "Для задачи анализа ЯМР-данных оптимально подойдет гибридная архитектура, сочетающая сверточные слои для обработки сигналов (FID, CPMG) и полносвязные слои для времени.\n",
    "\n",
    "Неструктурированные сигналы:\n",
    "\n",
    "X0; - float[1000] массив спада FID: 1000 точек float;\n",
    "\n",
    "X1; - float[1000] массив спада CPMG: 2000 точек float;\n",
    "\n",
    "\n",
    "Структурированные данные:\n",
    "\n",
    "X2; - float[1] время спин-решеточной релаксации;"
   ]
  },
  {
   "cell_type": "markdown",
   "metadata": {},
   "source": [
    "==> 1D CNN + FC — оптимальный баланс между точностью и сложностью."
   ]
  },
  {
   "cell_type": "markdown",
   "metadata": {},
   "source": [
    "Почему такая архитектура?\n",
    "\n",
    "Сверточные ветви (FID/CPMG):\n",
    "\n",
    "Автоматически выделяют локальные паттерны в сигналах.\n",
    "\n",
    "Max-pooling уменьшает размерность, сохраняя важные признаки.\n",
    "\n",
    "Обработка X2:\n",
    "\n",
    "Простой линейный слой, так как это скалярная величина.\n",
    "\n",
    "Объединяющий классификатор:\n",
    "\n",
    "Комбинирует признаки из всех источников данных.\n",
    "\n",
    "Dropout предотвращает переобучение."
   ]
  },
  {
   "cell_type": "markdown",
   "metadata": {},
   "source": []
  },
  {
   "cell_type": "code",
   "execution_count": 5,
   "metadata": {},
   "outputs": [],
   "source": [
    "import torch\n",
    "import torch.nn as nn\n",
    "from torch.utils.data import Dataset, DataLoader\n",
    "\n",
    "import numpy as np"
   ]
  },
  {
   "cell_type": "code",
   "execution_count": 2,
   "metadata": {},
   "outputs": [],
   "source": [
    "class NMRRegressor(nn.Module):\n",
    "    def __init__(self):\n",
    "        super().__init__()\n",
    "        \n",
    "        # Ветвь для FID (1D CNN)\n",
    "        self.fid_conv = nn.Sequential(\n",
    "            nn.Conv1d(1, 16, kernel_size=5, padding=2),  # [B, 1, 1000] -> [B, 16, 1000]\n",
    "            nn.ReLU(),\n",
    "            nn.MaxPool1d(2),                              # -> [B, 16, 500]\n",
    "            nn.Conv1d(16, 32, kernel_size=5, padding=2),  # -> [B, 32, 500]\n",
    "            nn.ReLU(),\n",
    "            nn.MaxPool1d(2),                              # -> [B, 32, 250]\n",
    "            nn.Flatten()                                   # -> [B, 32*250]\n",
    "        )\n",
    "        \n",
    "        # Ветвь для CPMG (1D CNN)\n",
    "        self.cpmg_conv = nn.Sequential(\n",
    "            nn.Conv1d(1, 16, kernel_size=5, padding=2),   # [B, 1, 2000] -> [B, 16, 2000]\n",
    "            nn.ReLU(),\n",
    "            nn.MaxPool1d(4),                              # -> [B, 16, 500]\n",
    "            nn.Conv1d(16, 32, kernel_size=5, padding=2),   # -> [B, 32, 500]\n",
    "            nn.ReLU(),\n",
    "            nn.MaxPool1d(2),                              # -> [B, 32, 250]\n",
    "            nn.Flatten()                                   # -> [B, 32*250]\n",
    "        )\n",
    "        \n",
    "        # Ветвь для X2 (простое линейное преобразование)\n",
    "        self.x2_fc = nn.Linear(1, 32)\n",
    "        \n",
    "        # Объединяющий классификатор\n",
    "        self.final_fc = nn.Sequential(\n",
    "            nn.Linear(32*250 + 32*250 + 32, 256),  # Сумма выходов всех ветвей\n",
    "            nn.ReLU(),\n",
    "            nn.Dropout(0.3),\n",
    "            nn.Linear(256, 2)  # 2 целевые переменные: Y0, Y1\n",
    "        )\n",
    "    \n",
    "    def forward(self, x_fid, x_cpmg, x2):\n",
    "        # Обработка FID\n",
    "        x_fid = x_fid.unsqueeze(1)  # Добавляем размерность канала: [B, 1, 1000]\n",
    "        fid_features = self.fid_conv(x_fid)\n",
    "        \n",
    "        # Обработка CPMG\n",
    "        x_cpmg = x_cpmg.unsqueeze(1)  # [B, 1, 2000]\n",
    "        cpmg_features = self.cpmg_conv(x_cpmg)\n",
    "        \n",
    "        # Обработка X2\n",
    "        x2_features = self.x2_fc(x2.unsqueeze(1)).squeeze(1)\n",
    "        \n",
    "        # Объединение признаков\n",
    "        combined = torch.cat([fid_features, cpmg_features, x2_features], dim=1)\n",
    "        return self.final_fc(combined)"
   ]
  },
  {
   "cell_type": "markdown",
   "metadata": {},
   "source": [
    "ПОДГОТОВКА ДАННЫХ\n"
   ]
  },
  {
   "cell_type": "markdown",
   "metadata": {},
   "source": [
    "Полный формат тензора: [Batch_size, Channels, Sequence_length]\n",
    "\n",
    "При B=32: [32, 1, 1000] — 32 сигнала FID, каждый из 1000 точек с 1 каналом (моно-сигнал)."
   ]
  },
  {
   "cell_type": "code",
   "execution_count": null,
   "metadata": {},
   "outputs": [
    {
     "ename": "NameError",
     "evalue": "name 'X0' is not defined",
     "output_type": "error",
     "traceback": [
      "\u001b[1;31m---------------------------------------------------------------------------\u001b[0m",
      "\u001b[1;31mNameError\u001b[0m                                 Traceback (most recent call last)",
      "Cell \u001b[1;32mIn[3], line 15\u001b[0m\n\u001b[0;32m     12\u001b[0m         \u001b[38;5;28;01mreturn\u001b[39;00m \u001b[38;5;28mself\u001b[39m\u001b[38;5;241m.\u001b[39mfid[idx], \u001b[38;5;28mself\u001b[39m\u001b[38;5;241m.\u001b[39mcpmg[idx], \u001b[38;5;28mself\u001b[39m\u001b[38;5;241m.\u001b[39mx2[idx], \u001b[38;5;28mself\u001b[39m\u001b[38;5;241m.\u001b[39my[idx]\n\u001b[0;32m     14\u001b[0m \u001b[38;5;66;03m# Пример использования:\u001b[39;00m\n\u001b[1;32m---> 15\u001b[0m dataset \u001b[38;5;241m=\u001b[39m NMRDataset(\u001b[43mX0\u001b[49m, X1, X2, Y)  \u001b[38;5;66;03m# Y.shape = [100, 2]\u001b[39;00m\n\u001b[0;32m     16\u001b[0m dataloader \u001b[38;5;241m=\u001b[39m DataLoader(dataset, batch_size\u001b[38;5;241m=\u001b[39m\u001b[38;5;241m16\u001b[39m, shuffle\u001b[38;5;241m=\u001b[39m\u001b[38;5;28;01mTrue\u001b[39;00m)\n",
      "\u001b[1;31mNameError\u001b[0m: name 'X0' is not defined"
     ]
    }
   ],
   "source": [
    "class NMRDataset(Dataset):\n",
    "    def __init__(self, fid_signals, cpmg_signals, x2, y):\n",
    "        self.fid = torch.FloatTensor(fid_signals)    # [P, 1000]\n",
    "        self.cpmg = torch.FloatTensor(cpmg_signals)  # [P, 2000]\n",
    "        self.x2 = torch.FloatTensor(x2)              # [P]\n",
    "        self.y = torch.FloatTensor(y)                # [P, 2]\n",
    "    \n",
    "    def __len__(self):\n",
    "        return len(self.y)\n",
    "    \n",
    "    def __getitem__(self, idx):\n",
    "        return self.fid[idx], self.cpmg[idx], self.x2[idx], self.y[idx]\n",
    "\n",
    "\n",
    "X0 = np.array([\n",
    "    [0.12, 0.11, 0.10, ..., 0.01],  # Образец 1 (1000 точек)\n",
    "    [0.15, 0.14, 0.12, ..., 0.02],\n",
    "    [0.10, 0.09, 0.08, ..., 0.005]\n",
    "])\n",
    "X1 = np.array([\n",
    "    [0.23, 0.22, 0.20, ..., 0.001],  # Образец 1 (2000 точек)\n",
    "    [0.25, 0.24, 0.21, ..., 0.002],\n",
    "    [0.20, 0.18, 0.15, ..., 0.0005]\n",
    "])\n",
    "X2 = np.array([1.2, 1.5, 0.8])\n",
    "Y = np.array([\n",
    "    [0.75, 0.3],# Образец 1: Y0=75% кристалличность, Y1=30% этиленовых звеньев\n",
    "    [0.82, 0.2],\n",
    "    [0.68, 0.4]\n",
    "])\n",
    "\n",
    "# X0 = np.random.rand(100, 1000)\n",
    "# X1 = np.random.rand(100, 2000)\n",
    "# X2 = np.random.rand(100)\n",
    "# Y = np.random.rand(100, 2)\n",
    "\n",
    "dataset = NMRDataset(X0, X1, X2, Y)  # Y.shape = [P, 2]\n",
    "dataloader = DataLoader(dataset, batch_size=16, shuffle=True)"
   ]
  },
  {
   "cell_type": "code",
   "execution_count": 4,
   "metadata": {},
   "outputs": [
    {
     "name": "stdout",
     "output_type": "stream",
     "text": [
      "Используемое устройство: cpu\n"
     ]
    },
    {
     "ename": "NameError",
     "evalue": "name 'dataloader' is not defined",
     "output_type": "error",
     "traceback": [
      "\u001b[1;31m---------------------------------------------------------------------------\u001b[0m",
      "\u001b[1;31mNameError\u001b[0m                                 Traceback (most recent call last)",
      "Cell \u001b[1;32mIn[4], line 9\u001b[0m\n\u001b[0;32m      6\u001b[0m optimizer \u001b[38;5;241m=\u001b[39m torch\u001b[38;5;241m.\u001b[39moptim\u001b[38;5;241m.\u001b[39mAdamW(model\u001b[38;5;241m.\u001b[39mparameters(), lr\u001b[38;5;241m=\u001b[39m\u001b[38;5;241m3e-4\u001b[39m)\n\u001b[0;32m      8\u001b[0m \u001b[38;5;28;01mfor\u001b[39;00m epoch \u001b[38;5;129;01min\u001b[39;00m \u001b[38;5;28mrange\u001b[39m(\u001b[38;5;241m100\u001b[39m):\n\u001b[1;32m----> 9\u001b[0m     \u001b[38;5;28;01mfor\u001b[39;00m fid, cpmg, x2, y \u001b[38;5;129;01min\u001b[39;00m \u001b[43mdataloader\u001b[49m:\n\u001b[0;32m     10\u001b[0m         fid, cpmg, x2, y \u001b[38;5;241m=\u001b[39m fid\u001b[38;5;241m.\u001b[39mto(device), cpmg\u001b[38;5;241m.\u001b[39mto(device), x2\u001b[38;5;241m.\u001b[39mto(device), y\u001b[38;5;241m.\u001b[39mto(device)\n\u001b[0;32m     12\u001b[0m         optimizer\u001b[38;5;241m.\u001b[39mzero_grad()\n",
      "\u001b[1;31mNameError\u001b[0m: name 'dataloader' is not defined"
     ]
    }
   ],
   "source": [
    "device = torch.device('cuda' if torch.cuda.is_available() else 'cpu')\n",
    "print(\"Используемое устройство:\", device)\n",
    "\n",
    "model = NMRRegressor().to(device)\n",
    "criterion = nn.MSELoss()  # Для регрессии\n",
    "optimizer = torch.optim.AdamW(model.parameters(), lr=3e-4)\n",
    "\n",
    "for epoch in range(100):\n",
    "    for fid, cpmg, x2, y in dataloader:\n",
    "        fid, cpmg, x2, y = fid.to(device), cpmg.to(device), x2.to(device), y.to(device)\n",
    "        \n",
    "        optimizer.zero_grad()\n",
    "        outputs = model(fid, cpmg, x2)\n",
    "        loss = criterion(outputs, y)\n",
    "        loss.backward()\n",
    "        optimizer.step()\n",
    "    \n",
    "    print(f\"Epoch {epoch}, Loss: {loss.item():.4f}\")"
   ]
  },
  {
   "attachments": {
    "image.png": {
     "image/png": "[encoded data removed]"
    }
   },
   "cell_type": "markdown",
   "metadata": {},
   "source": [
    "![image.png](attachment:image.png)"
   ]
  }
 ],
 "metadata": {
  "kernelspec": {
   "display_name": "Python 3",
   "language": "python",
   "name": "python3"
  },
  "language_info": {
   "codemirror_mode": {
    "name": "ipython",
    "version": 3
   },
   "file_extension": ".py",
   "mimetype": "text/x-python",
   "name": "python",
   "nbconvert_exporter": "python",
   "pygments_lexer": "ipython3",
   "version": "3.12.4"
  }
 },
 "nbformat": 4,
 "nbformat_minor": 2
}
