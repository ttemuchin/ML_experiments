{
 "cells": [
  {
   "cell_type": "markdown",
   "metadata": {},
   "source": [
    "Diabetes\tПрогрессия диабета у пациентов\tВстроен в sklearn.datasets\n",
    "\n",
    "Air Quality\tУровень загрязнения воздуха\tUCI\n"
   ]
  }
 ],
 "metadata": {
  "language_info": {
   "name": "python"
  }
 },
 "nbformat": 4,
 "nbformat_minor": 2
}
